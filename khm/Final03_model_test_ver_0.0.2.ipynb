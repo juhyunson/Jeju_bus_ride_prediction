{
 "cells": [
  {
   "cell_type": "markdown",
   "metadata": {},
   "source": [
    "# 제주도 버스승차 인원 예측\n",
    "- ## data 415423 rows × 49 columns\n",
    "### Columns\n",
    "- id : 해당 데이터에서의 고유한 id\n",
    "- data : 날짜\n",
    "- bus_route_id : 노선 ID\n",
    "- in_out : 시내버스, 시외버스 구분\n",
    "- station_code : 해당 승하차 정류소의 id\n",
    "- station_name : 해당 승하차 정류소의 이름\n",
    "- latitude : 해당 버스정류장의 위도\n",
    "- longitude : 해당 버스정류장의 경도\n",
    "- X-Y_ride : X:00:00 ~ x:59:59까지 승차한 인원 수\n",
    "- X-Y_takeoff : X:00:00 ~ x:59:59까지 하차한 인원 수\n",
    "- 18-20_ride : 18:00:00부터 19:59:59까지 승차한 인원 수\n",
    "- 지번주소 : EDA 및 제주 날씨 merge용 column \n",
    "- si :EDA 및 제주 날씨 merge용 column \n",
    "- city : EDA 및 제주 날씨 merge용 column  \n",
    "- dong : EDA 및 제주 날씨 merge용 column  \n",
    "- road_addr : EDA 및 제주 날씨 merge용 column  \n",
    "- weather_addr : EDA 및 제주 날씨 merge용 column \n",
    "- temperature : 온도\n",
    "- precipitation : 강수량\n",
    "- bus_interval : 노선 배차 간격\n",
    "- date_day : 일 (1일 ~ 30일)\n",
    "- date_dayofweek : 요일 (0 ~ 6)\n",
    "- date_dayofname : 요일 (월 ~ 일)\n",
    "- weekday : 평일 여부\n",
    "- weekend : 주말 여부\n",
    "- holiday : 공휴일 여부\n",
    "- typhoon : 태풍이 온날\n",
    "- in_ : 시내 버스 구분\n",
    "- out : 시외 버스 구분\n",
    "- ridexx : ride(탑승)의 2시간 간격 (ex 6시부터 ~7시 까지), 예측하는 y값이 18시 ~ 20시 까지이므로 생성함\n",
    "- offxx : off(하차)의 2시간 간격 (ex 6시부터 ~7시 까지), 예측하는 y값이 18시 ~ 20시 까지이므로 생성함\n",
    "- ride_sum : 승차인원의 합계\n",
    "- off_sum : 하차인원의 합계\n",
    "- bus_route_id_sum : 정류소, 일별 운행한 버스노선의 갯수\n",
    "- bus_route_id_all_sum : 정류소별 9월 전체 운행한 버스노선의 갯수\n",
    "\n"
   ]
  },
  {
   "cell_type": "markdown",
   "metadata": {},
   "source": [
    "# 이슈\n",
    "    - zero_df로 뺀것은 전체 데이터에서 1개만 있는것들 입니다.\n",
    "    - 정류장별로 듀플리케이트한것과 안한것과 갯수가 같은것 (토론떄는 zero_df 로 빼자고한것, 약 3700개)은 \n",
    "    - 따로 예측은 하지않고 train 모델에만 넣는것으로 하였습니다. (사유 : 박사님 피드백)"
   ]
  },
  {
   "cell_type": "markdown",
   "metadata": {},
   "source": [
    "### 0. 공통"
   ]
  },
  {
   "cell_type": "code",
   "execution_count": 3,
   "metadata": {},
   "outputs": [],
   "source": [
    "# 추가되는 패키지는 여기에서 import 해주세요\n",
    "import warnings\n",
    "warnings.filterwarnings('ignore')\n",
    "import missingno\n",
    "import pandas as pd\n",
    "import numpy as np\n",
    "import datetime\n",
    "import statsmodels.api as sm\n",
    "import matplotlib.pyplot as plt\n",
    "import seaborn as sns\n",
    "import matplotlib as mpl\n",
    "import pickle\n",
    "from sklearn.externals import joblib\n",
    "from statsmodels.stats.outliers_influence import variance_inflation_factor\n",
    "from sklearn.model_selection import train_test_split\n",
    "from sklearn.linear_model import LinearRegression\n",
    "from sklearn.preprocessing import StandardScaler\n",
    "from itertools import count\n",
    "import plotly_express as px\n",
    "from tqdm.notebook import tqdm\n",
    "import geopy.distance\n",
    "\n",
    "pd.options.mode.chained_assignment = None\n",
    "pd.set_option('display.max_columns', 500)\n",
    "# matplotlib 설정\n",
    "mpl.use('Agg')\n",
    "mpl.rcParams['axes.unicode_minus'] = False\n",
    "%matplotlib inline\n",
    "# seaborn 설정\n",
    "sns.set()\n",
    "sns.set_style(\"whitegrid\")\n",
    "sns.set_color_codes()\n",
    "from matplotlib import font_manager, rc\n",
    "font_name = font_manager.FontProperties(fname=\"c:/Windows/Fonts/malgun.ttf\").get_name()\n",
    "rc('font', family=font_name)"
   ]
  },
  {
   "cell_type": "code",
   "execution_count": 4,
   "metadata": {},
   "outputs": [],
   "source": [
    "pd.set_option('max_columns', 700)\n",
    "pd.set_option('max_rows', 500)"
   ]
  },
  {
   "cell_type": "markdown",
   "metadata": {},
   "source": [
    "### 01. 데이터 불러오기"
   ]
  },
  {
   "cell_type": "code",
   "execution_count": 5,
   "metadata": {},
   "outputs": [
    {
     "data": {
      "text/html": [
       "<div>\n",
       "<style scoped>\n",
       "    .dataframe tbody tr th:only-of-type {\n",
       "        vertical-align: middle;\n",
       "    }\n",
       "\n",
       "    .dataframe tbody tr th {\n",
       "        vertical-align: top;\n",
       "    }\n",
       "\n",
       "    .dataframe thead th {\n",
       "        text-align: right;\n",
       "    }\n",
       "</style>\n",
       "<table border=\"1\" class=\"dataframe\">\n",
       "  <thead>\n",
       "    <tr style=\"text-align: right;\">\n",
       "      <th></th>\n",
       "      <th>id</th>\n",
       "      <th>date</th>\n",
       "      <th>bus_route_id</th>\n",
       "      <th>in_out</th>\n",
       "      <th>station_code</th>\n",
       "      <th>station_name</th>\n",
       "      <th>latitude</th>\n",
       "      <th>longitude</th>\n",
       "      <th>ride6</th>\n",
       "      <th>ride7</th>\n",
       "      <th>ride8</th>\n",
       "      <th>ride9</th>\n",
       "      <th>ride10</th>\n",
       "      <th>ride11</th>\n",
       "      <th>off6</th>\n",
       "      <th>off7</th>\n",
       "      <th>off8</th>\n",
       "      <th>off9</th>\n",
       "      <th>off10</th>\n",
       "      <th>off11</th>\n",
       "      <th>ride18</th>\n",
       "      <th>지번주소</th>\n",
       "      <th>si</th>\n",
       "      <th>city</th>\n",
       "      <th>dong</th>\n",
       "      <th>road_addr</th>\n",
       "      <th>weather_addr</th>\n",
       "      <th>temperature</th>\n",
       "      <th>precipitation</th>\n",
       "      <th>bus_interval</th>\n",
       "      <th>date_day</th>\n",
       "      <th>date_dayofweek</th>\n",
       "      <th>date_dayofname</th>\n",
       "      <th>weekday</th>\n",
       "      <th>weekend</th>\n",
       "      <th>holiday</th>\n",
       "      <th>typhoon</th>\n",
       "      <th>in_</th>\n",
       "      <th>out</th>\n",
       "      <th>ride67</th>\n",
       "      <th>ride89</th>\n",
       "      <th>ride1011</th>\n",
       "      <th>off67</th>\n",
       "      <th>off89</th>\n",
       "      <th>off1011</th>\n",
       "      <th>ride_sum</th>\n",
       "      <th>off_sum</th>\n",
       "      <th>bus_route_id_sum</th>\n",
       "      <th>bus_route_id_all_sum</th>\n",
       "    </tr>\n",
       "  </thead>\n",
       "  <tbody>\n",
       "    <tr>\n",
       "      <th>415421</th>\n",
       "      <td>415421</td>\n",
       "      <td>2019-09-30</td>\n",
       "      <td>32820000</td>\n",
       "      <td>시내</td>\n",
       "      <td>3291</td>\n",
       "      <td>애월환승정류장(애월리)</td>\n",
       "      <td>33.46483</td>\n",
       "      <td>126.31870</td>\n",
       "      <td>1.0</td>\n",
       "      <td>0.0</td>\n",
       "      <td>0.0</td>\n",
       "      <td>0.0</td>\n",
       "      <td>0.0</td>\n",
       "      <td>0.0</td>\n",
       "      <td>0.0</td>\n",
       "      <td>0.0</td>\n",
       "      <td>0.0</td>\n",
       "      <td>0.0</td>\n",
       "      <td>0.0</td>\n",
       "      <td>0.0</td>\n",
       "      <td>0.0</td>\n",
       "      <td>제주특별자치도 제주시 애월읍 애월리 1534-2</td>\n",
       "      <td>제주시</td>\n",
       "      <td>애월읍</td>\n",
       "      <td>애월리</td>\n",
       "      <td>애월로</td>\n",
       "      <td>제주</td>\n",
       "      <td>23.6</td>\n",
       "      <td>22.6</td>\n",
       "      <td>8.0</td>\n",
       "      <td>30</td>\n",
       "      <td>0</td>\n",
       "      <td>Monday</td>\n",
       "      <td>1.0</td>\n",
       "      <td>0.0</td>\n",
       "      <td>0</td>\n",
       "      <td>0</td>\n",
       "      <td>1</td>\n",
       "      <td>0</td>\n",
       "      <td>1.0</td>\n",
       "      <td>0.0</td>\n",
       "      <td>0.0</td>\n",
       "      <td>0.0</td>\n",
       "      <td>0.0</td>\n",
       "      <td>0.0</td>\n",
       "      <td>1.0</td>\n",
       "      <td>0.0</td>\n",
       "      <td>5</td>\n",
       "      <td>120</td>\n",
       "    </tr>\n",
       "    <tr>\n",
       "      <th>415422</th>\n",
       "      <td>415422</td>\n",
       "      <td>2019-09-30</td>\n",
       "      <td>32820000</td>\n",
       "      <td>시내</td>\n",
       "      <td>6115100</td>\n",
       "      <td>서귀포시외버스터미널</td>\n",
       "      <td>33.24873</td>\n",
       "      <td>126.50799</td>\n",
       "      <td>0.0</td>\n",
       "      <td>0.0</td>\n",
       "      <td>0.0</td>\n",
       "      <td>0.0</td>\n",
       "      <td>0.0</td>\n",
       "      <td>0.0</td>\n",
       "      <td>0.0</td>\n",
       "      <td>0.0</td>\n",
       "      <td>4.0</td>\n",
       "      <td>0.0</td>\n",
       "      <td>0.0</td>\n",
       "      <td>0.0</td>\n",
       "      <td>0.0</td>\n",
       "      <td>제주특별자치도 서귀포시 법환동 843</td>\n",
       "      <td>서귀포시</td>\n",
       "      <td>서귀포시</td>\n",
       "      <td>법환동</td>\n",
       "      <td>일주동로</td>\n",
       "      <td>서귀포</td>\n",
       "      <td>24.3</td>\n",
       "      <td>6.3</td>\n",
       "      <td>8.0</td>\n",
       "      <td>30</td>\n",
       "      <td>0</td>\n",
       "      <td>Monday</td>\n",
       "      <td>1.0</td>\n",
       "      <td>0.0</td>\n",
       "      <td>0</td>\n",
       "      <td>0</td>\n",
       "      <td>1</td>\n",
       "      <td>0</td>\n",
       "      <td>0.0</td>\n",
       "      <td>0.0</td>\n",
       "      <td>0.0</td>\n",
       "      <td>0.0</td>\n",
       "      <td>4.0</td>\n",
       "      <td>0.0</td>\n",
       "      <td>0.0</td>\n",
       "      <td>4.0</td>\n",
       "      <td>15</td>\n",
       "      <td>440</td>\n",
       "    </tr>\n",
       "  </tbody>\n",
       "</table>\n",
       "</div>"
      ],
      "text/plain": [
       "            id        date  bus_route_id in_out  station_code  station_name  \\\n",
       "415421  415421  2019-09-30      32820000     시내          3291  애월환승정류장(애월리)   \n",
       "415422  415422  2019-09-30      32820000     시내       6115100    서귀포시외버스터미널   \n",
       "\n",
       "        latitude  longitude  ride6  ride7  ride8  ride9  ride10  ride11  off6  \\\n",
       "415421  33.46483  126.31870    1.0    0.0    0.0    0.0     0.0     0.0   0.0   \n",
       "415422  33.24873  126.50799    0.0    0.0    0.0    0.0     0.0     0.0   0.0   \n",
       "\n",
       "        off7  off8  off9  off10  off11  ride18                        지번주소  \\\n",
       "415421   0.0   0.0   0.0    0.0    0.0     0.0  제주특별자치도 제주시 애월읍 애월리 1534-2   \n",
       "415422   0.0   4.0   0.0    0.0    0.0     0.0        제주특별자치도 서귀포시 법환동 843   \n",
       "\n",
       "          si  city dong road_addr weather_addr  temperature  precipitation  \\\n",
       "415421   제주시   애월읍  애월리       애월로           제주         23.6           22.6   \n",
       "415422  서귀포시  서귀포시  법환동      일주동로          서귀포         24.3            6.3   \n",
       "\n",
       "        bus_interval  date_day  date_dayofweek date_dayofname  weekday  \\\n",
       "415421           8.0        30               0         Monday      1.0   \n",
       "415422           8.0        30               0         Monday      1.0   \n",
       "\n",
       "        weekend  holiday  typhoon  in_  out  ride67  ride89  ride1011  off67  \\\n",
       "415421      0.0        0        0    1    0     1.0     0.0       0.0    0.0   \n",
       "415422      0.0        0        0    1    0     0.0     0.0       0.0    0.0   \n",
       "\n",
       "        off89  off1011  ride_sum  off_sum  bus_route_id_sum  \\\n",
       "415421    0.0      0.0       1.0      0.0                 5   \n",
       "415422    4.0      0.0       0.0      4.0                15   \n",
       "\n",
       "        bus_route_id_all_sum  \n",
       "415421                   120  \n",
       "415422                   440  "
      ]
     },
     "execution_count": 5,
     "metadata": {},
     "output_type": "execute_result"
    }
   ],
   "source": [
    "#데이터 불러오기\n",
    "# 415423 rows × 49 columns\n",
    "raw_data = pd.read_csv('raw_train.csv')\n",
    "raw_data.tail(2)"
   ]
  },
  {
   "cell_type": "markdown",
   "metadata": {},
   "source": [
    "### 02. raw_data를 검증하기"
   ]
  },
  {
   "cell_type": "code",
   "execution_count": 6,
   "metadata": {},
   "outputs": [],
   "source": [
    "# raw_data에서 1회만 운행한 정류장은 zero_df로 빼는 함수\n",
    "# raw_train = 1회 운행한 정류장이 제외된 train_data\n",
    "# zero_df = 1회 운행한 정류장의 간략한 정보만 가지고 있는 df(station_code, ride18)\n",
    "# raw_zero = 1회 운행한 정류장의 df\n",
    "def make_zero_raw_train(raw_data):\n",
    "    table = pd.pivot_table(index='station_code', data=raw_data, values='id', aggfunc=len).reset_index()\n",
    "    table = table[table['id'] == 1]\n",
    "    raw_train = raw_data.copy()\n",
    "    raw_zero =pd.DataFrame(columns=raw_data.columns)\n",
    "    total = tqdm(table['station_code'].unique())\n",
    "    for i in total:\n",
    "        raw_train = raw_train[raw_train['station_code'] != i]\n",
    "        raw_zero = raw_zero.append(raw_data[raw_data['station_code'] == i])\n",
    "    # zero 모델의 df 생성\n",
    "    a = raw_zero[['station_code','ride18']]\n",
    "    zero_df = pd.merge(table, a, how = 'inner')\n",
    "    return raw_train, zero_df, raw_zero"
   ]
  },
  {
   "cell_type": "code",
   "execution_count": 7,
   "metadata": {},
   "outputs": [
    {
     "data": {
      "application/vnd.jupyter.widget-view+json": {
       "model_id": "52c5fc3cea674dd19ec2c946aa8d2b05",
       "version_major": 2,
       "version_minor": 0
      },
      "text/plain": [
       "HBox(children=(FloatProgress(value=0.0, max=91.0), HTML(value='')))"
      ]
     },
     "metadata": {},
     "output_type": "display_data"
    },
    {
     "name": "stdout",
     "output_type": "stream",
     "text": [
      "\n"
     ]
    }
   ],
   "source": [
    "raw_train, zero_df, raw_zero = make_zero_raw_train(raw_data)"
   ]
  },
  {
   "cell_type": "code",
   "execution_count": 8,
   "metadata": {},
   "outputs": [],
   "source": [
    "# zero_df를 제외한 raw_train에서 train, test 데이터를 나누는 함수 (중복제거 사용)\n",
    "def make_train_test(dataframe, category, test_size, random_state):\n",
    "    # 필수 train 데이터를 만들고\n",
    "    nec_train = dataframe.drop_duplicates(subset=category)\n",
    "    # 데이터프레임에서 필수 train을 제외시킨 train_test 셋을 만들고\n",
    "    train_test = dataframe.drop(dataframe['id'][nec_train['id']])\n",
    "    X, y = train_test_split(\n",
    "        train_test, test_size=test_size, random_state=random_state)\n",
    "    train = pd.concat([nec_train, X])\n",
    "    return train, y"
   ]
  },
  {
   "cell_type": "code",
   "execution_count": 9,
   "metadata": {},
   "outputs": [],
   "source": [
    "# 테스트 사이즈가 0.3 정도되야 실제 비율이 7.5:2.5 정도 됩니다.(중복제거된 데이터를 train에 붙이기 때문)\n",
    "# 만일 카테고리 데이터가 추가된다면 여기에 추가하셔야 합니다.\n",
    "# 랜덤 스테이트가 바뀌면 테스트 셋이 바뀌니 그냥 진행해주세요\n",
    "category = ['station_code','bus_route_id', 'in_', 'out', 'weekend', 'weekday', 'holiday', 'typhoon']\n",
    "df_train, df_test = make_train_test(raw_train, category, 0.3, 13)"
   ]
  },
  {
   "cell_type": "code",
   "execution_count": 10,
   "metadata": {},
   "outputs": [
    {
     "name": "stdout",
     "output_type": "stream",
     "text": [
      "train의 비율: 0.7682769447092928\n",
      "test의 비율: 0.2317230552907072\n",
      "전체의 정류소 갯수: 3472\n",
      "전체의 노선 갯수: 613\n",
      "train의 정류소 갯수: 3472\n",
      "test의 정류소 갯수: 3197\n",
      "train의 노선 갯수: 613\n",
      "test의 노선 갯수: 574\n"
     ]
    }
   ],
   "source": [
    "# test와 train의 비율 및 정류소의 갯수 (둘다 동일하게 들어갔는지.)\n",
    "print('train의 비율:', len(df_train) / len(raw_train))\n",
    "print('test의 비율:', len(df_test) / len(raw_train))\n",
    "print('전체의 정류소 갯수:', len(raw_train['station_code'].unique()))\n",
    "print('전체의 노선 갯수:', len(raw_train['bus_route_id'].unique()))\n",
    "print('train의 정류소 갯수:', len(df_train['station_code'].unique()))\n",
    "print('test의 정류소 갯수:', len(df_test['station_code'].unique()))\n",
    "print('train의 노선 갯수:', len(df_train['bus_route_id'].unique()))\n",
    "print('test의 노선 갯수:', len(df_test['bus_route_id'].unique()))"
   ]
  },
  {
   "cell_type": "code",
   "execution_count": 11,
   "metadata": {},
   "outputs": [],
   "source": [
    "# 데이터 스케일링\n",
    "# 실수형 데이터가 추가되면 아래 values에 추가하면 됩니다.\n",
    "values = ['ride6', 'ride7', 'ride8', 'ride9', 'ride10', 'ride11', 'off6', 'off7', 'off8',\n",
    "          'off9', 'off10', 'off11', 'ride18', 'temperature', 'precipitation', 'bus_interval',\n",
    "          'ride67', 'ride89', 'ride1011', 'off67', 'off89', 'off1011', 'ride_sum', 'off_sum',\n",
    "          'bus_route_id_sum', 'bus_route_id_all_sum']\n",
    "\n",
    "scale_values = [f'scale_{value}' for value in values]\n",
    "\n",
    "df_train[scale_values] = df_train[values] # train_data\n",
    "df_test[scale_values] = df_test[values] # test_data\n",
    "raw_zero[scale_values] = raw_zero[values] # zero_df\n",
    "\n",
    "X = df_train[scale_values]\n",
    "Y = df_test[scale_values]\n",
    "Z = raw_zero[scale_values]\n",
    "\n",
    "scaler = StandardScaler()\n",
    "scaler.fit(X)\n",
    "\n",
    "X_scaler = scaler.transform(X)\n",
    "Y_scaler = scaler.transform(Y)\n",
    "Z_scaler = scaler.transform(Z)\n",
    "\n",
    "df_train[scale_values] = X_scaler\n",
    "df_test[scale_values] = Y_scaler\n",
    "raw_zero[scale_values] = Z_scaler"
   ]
  },
  {
   "cell_type": "code",
   "execution_count": 162,
   "metadata": {},
   "outputs": [],
   "source": [
    "# split 데이터 검증용\n",
    "# train + validation data를 받아서 임의의 정류장 갯수를 가져옴\n",
    "def split(df_train, num, seed):\n",
    "    \n",
    "    test_frame = pd.DataFrame(columns=df_train.columns)\n",
    "    np.random.seed(seed)\n",
    "\n",
    "    for i in np.random.choice(df_train['station_code'].unique(), num, replace=False):\n",
    "        df1 = df_train[df_train['station_code'] == i]\n",
    "        test_frame = pd.concat([test_frame, df1])\n",
    "    return test_frame\n",
    "\n",
    "\n",
    "# 데이터 검증용 함수\n",
    "# df_train(or test_frame)를 train_df(학습)와 validation_df(검주ㅡㅇ)를 만듬\n",
    "# train에는 중복제거된 데이터가 포함되어있음\n",
    "# train과 validation을 나누는 과정에서 random_state를 다르게 주면 데이터가 바뀜(Kfold와 비슷한 효과)\n",
    "def make_train_validation(dataframe, cate, test_size, seed):\n",
    "    train_df = pd.DataFrame(columns=dataframe.columns)\n",
    "    validation_df = pd.DataFrame(columns=dataframe.columns)\n",
    "    total = tqdm(dataframe['station_code'].unique())\n",
    "    print('make_train_validation 실행중....')\n",
    "    for i in total:\n",
    "        df1 = dataframe[dataframe['station_code'] == i]\n",
    "        # 필수 train 데이터를 만들고\n",
    "        nec_train = df1.drop_duplicates(subset=cate)\n",
    "        # 필수 train 데이터를 제외한 train_validation을 만듬\n",
    "        train_validation = df1.drop(df1['id'][nec_train['id']])\n",
    "        # 만약 필수 train데이터와 train_validation의 크기가 같다(모두 고윳값이다)면\n",
    "        if len(nec_train) == len(df1):\n",
    "            #그냥 모두 train_df에 넣음,(validation에는 넣지않음, 박사님 피드백)\n",
    "            train_df = pd.concat([train_df, nec_train])\n",
    "\n",
    "        # 만약 train_validation의 갯수가 1이하면, train_validation은 바로 validation이 됨       \n",
    "        elif len(train_validation) <= 1:\n",
    "            # train_df와\n",
    "            train_df = pd.concat([train_df, nec_train])\n",
    "            # validation_df를 생성함\n",
    "            validation_df = pd.concat([validation_df, train_validation])\n",
    "        # 그 외에는 필수 train + train , validation 으로 나눠줌\n",
    "        else:\n",
    "            X, y = train_test_split(\n",
    "                train_validation, test_size=test_size, random_state=seed)\n",
    "            train_a = pd.concat([nec_train, X])\n",
    "            train_df = pd.concat([train_df, train_a])\n",
    "            validation_df = pd.concat([validation_df, y])\n",
    "    return train_df, validation_df\n",
    "\n",
    "# 검증 모델\n",
    "# 만일 validation_df의 station_code가 없다면 학습만하고 예측을 하지 않음\n",
    "def ols_validation(train_df, validation_df, var, cate):\n",
    "    \n",
    "    total = tqdm(train_df['station_code'].unique())\n",
    "    columns = train_df.columns\n",
    "    df_tr = pd.DataFrame(columns=columns)\n",
    "    df_te = pd.DataFrame(columns=columns)\n",
    "    df_tr['yhat'] = 999\n",
    "    df_te['yhat'] = 999\n",
    "    cate_c = [f\"C({name})\" for name in cate]\n",
    "    y = ['scale_ride18']\n",
    "    print('ols_validation 실행중....')\n",
    "    for i in total:\n",
    "        train_ols = train_df[train_df['station_code'] == i]\n",
    "        validation_ols = validation_df[validation_df['station_code'] == i]\n",
    "    \n",
    "        if len(validation_ols) ==0:\n",
    "            model = sm.OLS.from_formula(\n",
    "            'scale_ride18  ~ ' + '+'.join(var)\n",
    "            + '+'.join('+') + '+'.join(cate_c), data=train_ols)\n",
    "            # 학습\n",
    "            result = model.fit()\n",
    "            # 결과\n",
    "            train_ols['yhat'] = result.predict(train_ols)\n",
    "            # 학습 저장\n",
    "            df_tr = pd.concat([df_tr, train_ols])\n",
    "\n",
    "        else :\n",
    "            model = sm.OLS.from_formula(\n",
    "            'scale_ride18  ~ ' + '+'.join(var)\n",
    "            + '+'.join('+') + '+'.join(cate_c), data=train_ols)\n",
    "            # 학습\n",
    "            result = model.fit()\n",
    "            # 결과\n",
    "            train_ols['yhat'] = result.predict(train_ols)\n",
    "            # 학습 저장\n",
    "            df_tr = pd.concat([df_tr, train_ols])\n",
    "            \n",
    "            validation_ols_df = validation_ols[var+cate]  # 테스트 모델\n",
    "            validation_ols['yhat'] = result.predict(validation_ols_df)\n",
    "            df_te = pd.concat([df_te, validation_ols])\n",
    "    return df_tr, df_te\n",
    "\n",
    "# R스퀘어 구하기\n",
    "# 앞에서 train과 validation 분리한 seed를 넣어 어떤 seed가 어떤 결정계수가 나왔는지 확인한다.\n",
    "# DataFrame형태로 반환\n",
    "def get_rsquared(df_tr, df_te, seed):\n",
    "\n",
    "    df_tr['residual'] = df_tr['scale_ride18'] - df_tr['yhat']\n",
    "    df_tr['explained'] = df_tr['yhat'] - np.mean(df_tr['yhat'])\n",
    "    df_tr['total'] = df_tr['scale_ride18'] - np.mean(df_tr['scale_ride18'])\n",
    "\n",
    "    df_te['residual'] = df_te['scale_ride18'] - df_te['yhat']\n",
    "    df_te['explained'] = df_te['yhat'] - np.mean(df_te['yhat'])\n",
    "    df_te['total'] = df_te['scale_ride18'] - np.mean(df_te['scale_ride18'])\n",
    "\n",
    "    train_ess = np.sum((df_tr['explained'] ** 2))\n",
    "    train_rss = np.sum((df_tr['residual'] ** 2))\n",
    "    train_tss = np.sum((df_tr['total'] ** 2))\n",
    "    test_ess = np.sum((df_te['explained'] ** 2))\n",
    "    test_rss = np.sum((df_te['residual'] ** 2))\n",
    "    test_tss = np.sum((df_te['total'] ** 2))\n",
    "\n",
    "    rsquared = {'seed': [f'{seed}'],\n",
    "             'train_rsquared_1': [1-train_rss/train_tss],\n",
    "             'train_rsquared_2': [train_ess/train_tss],\n",
    "             'validation_rsquared_1': [1-test_rss/test_tss],\n",
    "             'validation_rsquared_2': [test_ess/test_tss],\n",
    "             'train_ESS' : [round(train_ess)],\n",
    "             'train_RSS' : [round(train_rss)],\n",
    "             'train_TSS' : [round(train_tss)],\n",
    "             'validation_ESS' : [round(test_ess)],\n",
    "             'validation_RSS' : [round(test_rss)],\n",
    "             'validation_TSS' : [round(test_tss)],\n",
    "             'train_RMSE' : [np.sqrt(((df_tr['scale_ride18'] - df_tr['yhat']) ** 2).mean())],\n",
    "             'validation_RMSE' : [np.sqrt(((df_te['scale_ride18'] - df_te['yhat']) ** 2).mean())],\n",
    "               }\n",
    "    print(f'seed : {seed} 완료')\n",
    "    return pd.DataFrame(rsquared)"
   ]
  },
  {
   "cell_type": "code",
   "execution_count": 74,
   "metadata": {},
   "outputs": [],
   "source": [
    "# 한번에 여러번 해보기\n",
    "# 위에서 만든 make_train_validation -> ols_validation -> get_rsquared의 순서를 거침\n",
    "# 시드를 리스트로 받아서\n",
    "# dataframe = (train과 validation으로 나누기 전의 데이터)\n",
    "# seeds = 리스트형태의 seed 목록 (갯수만큼 ols를 검증함)\n",
    "# test_size = validation_size, 왠만하면 0.2로 고정해주세요\n",
    "# 리턴되는 rsquared_df 데이터 프레임에 train, validation의 결정계수, ess, rss, tss, RMSE를 seed 별로 데이터프레임으로 만들어줍니다.\n",
    "\n",
    "def validations(dataframe, seeds, test_size):\n",
    "    rsquared_df = pd.DataFrame()\n",
    "    for seed in seeds:\n",
    "        train_df, validation_df = make_train_validation(dataframe, cate, test_size, seed)\n",
    "        df_tr, df_te = ols_validation(train_df, validation_df, var, cate)\n",
    "        rsquared = get_rsquared(df_tr, df_te, seed)\n",
    "        rsquared_df = pd.concat([rsquared_df, rsquared])\n",
    "    return rsquared_df"
   ]
  },
  {
   "cell_type": "code",
   "execution_count": 1,
   "metadata": {},
   "outputs": [],
   "source": [
    "# 0.0.2 ver 추가 버전\n",
    "# 상위 num번째의 데이터 만드는 함수\n",
    "\n",
    "def make_top_station(num):\n",
    "    table_raw = pd.pivot_table(raw_data, index='station_code', values='id', aggfunc=len,)\n",
    "    top = raw_data['station_code'].value_counts()[:num]\n",
    "    top_df = pd.DataFrame(top).reset_index()\n",
    "    top_df.columns = ['station_code', 'count']\n",
    "    print(f'상위 정류장 {num}개는 전체 3563개의 정류소 중', round(top_df['count'].sum() / len(raw_data) * 100,1),'%를 대표합니다.')\n",
    "\n",
    "    dataframe = pd.DataFrame()\n",
    "    total = tqdm(top_df['station_code'].unique())\n",
    "    for i in total:\n",
    "        dataframe = dataframe.append(df_train[df_train['station_code'] == i])\n",
    "    return dataframe"
   ]
  },
  {
   "cell_type": "code",
   "execution_count": 12,
   "metadata": {},
   "outputs": [
    {
     "name": "stdout",
     "output_type": "stream",
     "text": [
      "상위 정류장 10개는 전체 3563개의 정류소 중 3.4 %를 대표합니다.\n"
     ]
    },
    {
     "data": {
      "application/vnd.jupyter.widget-view+json": {
       "model_id": "24838ca87c6440b3b71c696c8e7aad3d",
       "version_major": 2,
       "version_minor": 0
      },
      "text/plain": [
       "HBox(children=(FloatProgress(value=0.0, max=10.0), HTML(value='')))"
      ]
     },
     "metadata": {},
     "output_type": "display_data"
    },
    {
     "name": "stdout",
     "output_type": "stream",
     "text": [
      "\n"
     ]
    }
   ],
   "source": [
    "# 상위 정류장 1000개 만들고\n",
    "# 전체 3563개의  정류장 중 상위 1000개의 정류장이 전체 데이터의 약 76% 이상을 차지 함\n",
    "dataframe_1000 = make_top_station(1000)"
   ]
  },
  {
   "cell_type": "code",
   "execution_count": 157,
   "metadata": {},
   "outputs": [
    {
     "name": "stdout",
     "output_type": "stream",
     "text": [
      "상위 정류장 500개는 전체 3563개의 정류소 중 57.0 %를 대표합니다.\n"
     ]
    },
    {
     "data": {
      "application/vnd.jupyter.widget-view+json": {
       "model_id": "396f9d64615a41c28b1fe59ccb23242b",
       "version_major": 2,
       "version_minor": 0
      },
      "text/plain": [
       "HBox(children=(FloatProgress(value=0.0, max=500.0), HTML(value='')))"
      ]
     },
     "metadata": {},
     "output_type": "display_data"
    },
    {
     "name": "stdout",
     "output_type": "stream",
     "text": [
      "\n"
     ]
    }
   ],
   "source": [
    "# 상위 정류장 500개 만들고\n",
    "# 전체 3563개의  정류장 중 상위 500개의 정류장이 전체 데이터의 약 57% 이상을 차지 함\n",
    "dataframe_500 = make_top_station(500)"
   ]
  },
  {
   "cell_type": "code",
   "execution_count": 163,
   "metadata": {},
   "outputs": [
    {
     "data": {
      "application/vnd.jupyter.widget-view+json": {
       "model_id": "6c83885f4d7c4f929aabbdbbf0a33d0d",
       "version_major": 2,
       "version_minor": 0
      },
      "text/plain": [
       "HBox(children=(FloatProgress(value=0.0, max=500.0), HTML(value='')))"
      ]
     },
     "metadata": {},
     "output_type": "display_data"
    },
    {
     "name": "stdout",
     "output_type": "stream",
     "text": [
      "make_train_validation 실행중....\n",
      "\n"
     ]
    },
    {
     "data": {
      "application/vnd.jupyter.widget-view+json": {
       "model_id": "20fdd6ca6c9342c8a2e1a0807c1f04b6",
       "version_major": 2,
       "version_minor": 0
      },
      "text/plain": [
       "HBox(children=(FloatProgress(value=0.0, max=500.0), HTML(value='')))"
      ]
     },
     "metadata": {},
     "output_type": "display_data"
    },
    {
     "name": "stdout",
     "output_type": "stream",
     "text": [
      "ols_validation 실행중....\n",
      "\n",
      "seed : 300 완료\n"
     ]
    },
    {
     "data": {
      "application/vnd.jupyter.widget-view+json": {
       "model_id": "38f90b02892046979bdf6938b7241621",
       "version_major": 2,
       "version_minor": 0
      },
      "text/plain": [
       "HBox(children=(FloatProgress(value=0.0, max=500.0), HTML(value='')))"
      ]
     },
     "metadata": {},
     "output_type": "display_data"
    },
    {
     "name": "stdout",
     "output_type": "stream",
     "text": [
      "make_train_validation 실행중....\n",
      "\n"
     ]
    },
    {
     "data": {
      "application/vnd.jupyter.widget-view+json": {
       "model_id": "4ed36b3fab6a41739127b64f58bb5a21",
       "version_major": 2,
       "version_minor": 0
      },
      "text/plain": [
       "HBox(children=(FloatProgress(value=0.0, max=500.0), HTML(value='')))"
      ]
     },
     "metadata": {},
     "output_type": "display_data"
    },
    {
     "name": "stdout",
     "output_type": "stream",
     "text": [
      "ols_validation 실행중....\n",
      "\n",
      "seed : 20 완료\n"
     ]
    },
    {
     "data": {
      "application/vnd.jupyter.widget-view+json": {
       "model_id": "52ae1a9f4b68425294a9c50554d83b18",
       "version_major": 2,
       "version_minor": 0
      },
      "text/plain": [
       "HBox(children=(FloatProgress(value=0.0, max=500.0), HTML(value='')))"
      ]
     },
     "metadata": {},
     "output_type": "display_data"
    },
    {
     "name": "stdout",
     "output_type": "stream",
     "text": [
      "make_train_validation 실행중....\n",
      "\n"
     ]
    },
    {
     "data": {
      "application/vnd.jupyter.widget-view+json": {
       "model_id": "5b905194c25849db8ea9d8c23d3d0540",
       "version_major": 2,
       "version_minor": 0
      },
      "text/plain": [
       "HBox(children=(FloatProgress(value=0.0, max=500.0), HTML(value='')))"
      ]
     },
     "metadata": {},
     "output_type": "display_data"
    },
    {
     "name": "stdout",
     "output_type": "stream",
     "text": [
      "ols_validation 실행중....\n",
      "\n",
      "seed : 30 완료\n"
     ]
    },
    {
     "data": {
      "application/vnd.jupyter.widget-view+json": {
       "model_id": "70f1f578edc34bcb992ac2de1d571359",
       "version_major": 2,
       "version_minor": 0
      },
      "text/plain": [
       "HBox(children=(FloatProgress(value=0.0, max=500.0), HTML(value='')))"
      ]
     },
     "metadata": {},
     "output_type": "display_data"
    },
    {
     "name": "stdout",
     "output_type": "stream",
     "text": [
      "make_train_validation 실행중....\n",
      "\n"
     ]
    },
    {
     "data": {
      "application/vnd.jupyter.widget-view+json": {
       "model_id": "49ebe4715aa44b09b11f905371c6a07e",
       "version_major": 2,
       "version_minor": 0
      },
      "text/plain": [
       "HBox(children=(FloatProgress(value=0.0, max=500.0), HTML(value='')))"
      ]
     },
     "metadata": {},
     "output_type": "display_data"
    },
    {
     "name": "stdout",
     "output_type": "stream",
     "text": [
      "ols_validation 실행중....\n",
      "\n",
      "seed : 40 완료\n"
     ]
    },
    {
     "data": {
      "application/vnd.jupyter.widget-view+json": {
       "model_id": "0841fa4c3f2b4fb7997c94e04bf71ed1",
       "version_major": 2,
       "version_minor": 0
      },
      "text/plain": [
       "HBox(children=(FloatProgress(value=0.0, max=500.0), HTML(value='')))"
      ]
     },
     "metadata": {},
     "output_type": "display_data"
    },
    {
     "name": "stdout",
     "output_type": "stream",
     "text": [
      "make_train_validation 실행중....\n",
      "\n"
     ]
    },
    {
     "data": {
      "application/vnd.jupyter.widget-view+json": {
       "model_id": "be536929178c46bba7461a8b175f739f",
       "version_major": 2,
       "version_minor": 0
      },
      "text/plain": [
       "HBox(children=(FloatProgress(value=0.0, max=500.0), HTML(value='')))"
      ]
     },
     "metadata": {},
     "output_type": "display_data"
    },
    {
     "name": "stdout",
     "output_type": "stream",
     "text": [
      "ols_validation 실행중....\n",
      "\n",
      "seed : 50 완료\n"
     ]
    },
    {
     "data": {
      "text/html": [
       "<div>\n",
       "<style scoped>\n",
       "    .dataframe tbody tr th:only-of-type {\n",
       "        vertical-align: middle;\n",
       "    }\n",
       "\n",
       "    .dataframe tbody tr th {\n",
       "        vertical-align: top;\n",
       "    }\n",
       "\n",
       "    .dataframe thead th {\n",
       "        text-align: right;\n",
       "    }\n",
       "</style>\n",
       "<table border=\"1\" class=\"dataframe\">\n",
       "  <thead>\n",
       "    <tr style=\"text-align: right;\">\n",
       "      <th></th>\n",
       "      <th>seed</th>\n",
       "      <th>train_rsquared_1</th>\n",
       "      <th>train_rsquared_2</th>\n",
       "      <th>validation_rsquared_1</th>\n",
       "      <th>validation_rsquared_2</th>\n",
       "      <th>train_ESS</th>\n",
       "      <th>train_RSS</th>\n",
       "      <th>train_TSS</th>\n",
       "      <th>validation_ESS</th>\n",
       "      <th>validation_RSS</th>\n",
       "      <th>validation_TSS</th>\n",
       "      <th>train_RMSE</th>\n",
       "      <th>validation_RMSE</th>\n",
       "    </tr>\n",
       "  </thead>\n",
       "  <tbody>\n",
       "    <tr>\n",
       "      <th>0</th>\n",
       "      <td>300</td>\n",
       "      <td>0.787306</td>\n",
       "      <td>0.787279</td>\n",
       "      <td>0.713629</td>\n",
       "      <td>0.712373</td>\n",
       "      <td>154555.0</td>\n",
       "      <td>41755.0</td>\n",
       "      <td>196316.0</td>\n",
       "      <td>54865.0</td>\n",
       "      <td>22056.0</td>\n",
       "      <td>77017.0</td>\n",
       "      <td>0.544826</td>\n",
       "      <td>0.745506</td>\n",
       "    </tr>\n",
       "    <tr>\n",
       "      <th>0</th>\n",
       "      <td>20</td>\n",
       "      <td>0.780122</td>\n",
       "      <td>0.780091</td>\n",
       "      <td>0.737869</td>\n",
       "      <td>0.677761</td>\n",
       "      <td>158097.0</td>\n",
       "      <td>44562.0</td>\n",
       "      <td>202665.0</td>\n",
       "      <td>47922.0</td>\n",
       "      <td>18534.0</td>\n",
       "      <td>70707.0</td>\n",
       "      <td>0.562838</td>\n",
       "      <td>0.683410</td>\n",
       "    </tr>\n",
       "    <tr>\n",
       "      <th>0</th>\n",
       "      <td>30</td>\n",
       "      <td>0.777824</td>\n",
       "      <td>0.777809</td>\n",
       "      <td>0.748163</td>\n",
       "      <td>0.744094</td>\n",
       "      <td>154424.0</td>\n",
       "      <td>44110.0</td>\n",
       "      <td>198537.0</td>\n",
       "      <td>55657.0</td>\n",
       "      <td>18837.0</td>\n",
       "      <td>74799.0</td>\n",
       "      <td>0.559978</td>\n",
       "      <td>0.688969</td>\n",
       "    </tr>\n",
       "    <tr>\n",
       "      <th>0</th>\n",
       "      <td>40</td>\n",
       "      <td>0.788680</td>\n",
       "      <td>0.788649</td>\n",
       "      <td>0.719845</td>\n",
       "      <td>0.716869</td>\n",
       "      <td>157001.0</td>\n",
       "      <td>42069.0</td>\n",
       "      <td>199076.0</td>\n",
       "      <td>53264.0</td>\n",
       "      <td>20816.0</td>\n",
       "      <td>74301.0</td>\n",
       "      <td>0.546867</td>\n",
       "      <td>0.724251</td>\n",
       "    </tr>\n",
       "    <tr>\n",
       "      <th>0</th>\n",
       "      <td>50</td>\n",
       "      <td>0.777026</td>\n",
       "      <td>0.777005</td>\n",
       "      <td>0.753131</td>\n",
       "      <td>0.675537</td>\n",
       "      <td>157313.0</td>\n",
       "      <td>45143.0</td>\n",
       "      <td>202460.0</td>\n",
       "      <td>47921.0</td>\n",
       "      <td>17512.0</td>\n",
       "      <td>70938.0</td>\n",
       "      <td>0.566499</td>\n",
       "      <td>0.664300</td>\n",
       "    </tr>\n",
       "  </tbody>\n",
       "</table>\n",
       "</div>"
      ],
      "text/plain": [
       "  seed  train_rsquared_1  train_rsquared_2  validation_rsquared_1  \\\n",
       "0  300          0.787306          0.787279               0.713629   \n",
       "0   20          0.780122          0.780091               0.737869   \n",
       "0   30          0.777824          0.777809               0.748163   \n",
       "0   40          0.788680          0.788649               0.719845   \n",
       "0   50          0.777026          0.777005               0.753131   \n",
       "\n",
       "   validation_rsquared_2  train_ESS  train_RSS  train_TSS  validation_ESS  \\\n",
       "0               0.712373   154555.0    41755.0   196316.0         54865.0   \n",
       "0               0.677761   158097.0    44562.0   202665.0         47922.0   \n",
       "0               0.744094   154424.0    44110.0   198537.0         55657.0   \n",
       "0               0.716869   157001.0    42069.0   199076.0         53264.0   \n",
       "0               0.675537   157313.0    45143.0   202460.0         47921.0   \n",
       "\n",
       "   validation_RSS  validation_TSS  train_RMSE  validation_RMSE  \n",
       "0         22056.0         77017.0    0.544826         0.745506  \n",
       "0         18534.0         70707.0    0.562838         0.683410  \n",
       "0         18837.0         74799.0    0.559978         0.688969  \n",
       "0         20816.0         74301.0    0.546867         0.724251  \n",
       "0         17512.0         70938.0    0.566499         0.664300  "
      ]
     },
     "execution_count": 163,
     "metadata": {},
     "output_type": "execute_result"
    }
   ],
   "source": [
    "# 여기서 변수 변경해가면서 검증해보세요\n",
    "var_total = ['scale_ride6','scale_ride7','scale_ride8','scale_ride9', 'scale_ride10','scale_ride11',\n",
    "       'scale_off6','scale_off7','scale_off8','scale_off9','scale_off10','scale_off11',\n",
    "       'scale_temperature','scale_precipitation','scale_bus_interval',\n",
    "       'scale_ride67','scale_ride89','scale_ride1011','scale_off67','scale_off89', 'scale_off1011',\n",
    "        'scale_ride_sum','scale_off_sum','scale_bus_route_id_sum','scale_bus_route_id_all_sum']\n",
    "\n",
    "# 'scale_ride67','scale_ride89','scale_ride1011','scale_off67','scale_off89', 'scale_off1011' \n",
    "# 는 2시간 더한 컬럼입니다.\n",
    "\n",
    "# 검증에 사용할 실수 변수를 넣으세요\n",
    "var = ['scale_temperature','scale_precipitation','scale_bus_interval',\n",
    "       'scale_ride_sum','scale_off_sum','scale_bus_route_id_sum','scale_bus_route_id_all_sum',\n",
    "       'scale_ride67','scale_ride89','scale_ride1011','scale_off67','scale_off89', 'scale_off1011']\n",
    "# 'scale_ride6','scale_ride7','scale_ride8','scale_ride9', 'scale_ride10','scale_ride11',\n",
    "#        'scale_off6','scale_off7','scale_off8','scale_off9','scale_off10','scale_off11',\n",
    "\n",
    "# 검증에 사용할 카테고리 변수를 넣으세요\n",
    "cate = ['bus_route_id','in_','out', 'weekend', 'weekday', 'holiday', 'typhoon'] # ,\n",
    "\n",
    "seeds = [300, 20, 30, 40, 50] # 랜덤시드를 주어서 Kfold한 효과를 가져옴\n",
    "test_size = 0.3 #변경해도 상관은 없는데 그냥 0.3로 하는게.. 그래야 7.5:2.5 정도 나옵니다.\n",
    "rsquared_df = validations(dataframe_500, seeds, test_size)\n",
    "rsquared_df"
   ]
  },
  {
   "cell_type": "markdown",
   "metadata": {},
   "source": [
    "### 03. 전체 데이터로 최종 확인\n",
    " - 함수 내에서 zero_df를 따로 생성하지 않습니다. \n",
    " - 그러니 앞에 zero_df 생성하는 make_zero_raw_train 함수가 실행되어있어야 합니다.\n",
    " - 또한 zero_df의 변수명도 바뀌면 오류납니다."
   ]
  },
  {
   "cell_type": "code",
   "execution_count": 164,
   "metadata": {},
   "outputs": [],
   "source": [
    "# 나뉘어진 트레인과 테스트를 입력받아서, 정류장별 학습 및 예측 하면됨\n",
    "# 최종 테스트\n",
    "\n",
    "def ols_final(df_train, df_test, var, cate):\n",
    "\n",
    "    total = tqdm(df_test['station_code'].unique())\n",
    "    columns = df_train.columns\n",
    "    df_tr = pd.DataFrame(columns=columns)\n",
    "    df_te = pd.DataFrame(columns=columns)\n",
    "    df_tr['yhat'] = 999\n",
    "    df_te['yhat'] = 999\n",
    "    cate_c = [f\"C({name})\" for name in cate]\n",
    "    y = ['scale_ride18']\n",
    "    for i in total:\n",
    "        train_ols = df_train[df_train['station_code'] == i]\n",
    "        test_ols = df_test[df_test['station_code'] == i]\n",
    "\n",
    "        if i in zero_df['station_code'].unique():\n",
    "            \n",
    "            test_ols['yhat'] = zero_df[zero_df['station_code'] == i]['scale_ride18']\n",
    "            df_tr = pd.concat([df_tr, test_ols])\n",
    "            df_te = pd.concat([df_te, test_ols])\n",
    "\n",
    "        elif len(test_ols) == 0:\n",
    "            model = sm.OLS.from_formula(\n",
    "                'scale_ride18  ~ ' + '+'.join(var)\n",
    "                + '+'.join('+') + '+'.join(cate_c), data=train_ols)\n",
    "            # 학습\n",
    "            result = model.fit()\n",
    "            # 결과\n",
    "            train_ols['yhat'] = result.predict(train_ols)\n",
    "            # 학습 저장\n",
    "            df_tr = pd.concat([df_tr, train_ols])\n",
    "\n",
    "        else:\n",
    "            model = sm.OLS.from_formula(\n",
    "                'scale_ride18  ~ ' + '+'.join(var)\n",
    "                + '+'.join('+') + '+'.join(cate_c), data=train_ols)\n",
    "            # 학습\n",
    "            result = model.fit()\n",
    "            # 결과\n",
    "            train_ols['yhat'] = result.predict(train_ols)\n",
    "            # 학습 저장\n",
    "            df_tr = pd.concat([df_tr, train_ols])\n",
    "\n",
    "            test_ols_df = test_ols[var+cate]  # 테스트 모델\n",
    "            test_ols['yhat'] = result.predict(test_ols_df)\n",
    "            df_te = pd.concat([df_te, test_ols])\n",
    "    return df_tr, df_te"
   ]
  },
  {
   "cell_type": "code",
   "execution_count": 165,
   "metadata": {},
   "outputs": [
    {
     "data": {
      "application/vnd.jupyter.widget-view+json": {
       "model_id": "496248a2f2034e77bdd8686b9f9d1a48",
       "version_major": 2,
       "version_minor": 0
      },
      "text/plain": [
       "HBox(children=(FloatProgress(value=0.0), HTML(value='')))"
      ]
     },
     "metadata": {},
     "output_type": "display_data"
    },
    {
     "name": "stdout",
     "output_type": "stream",
     "text": [
      "make_train_validation 실행중....\n",
      "\n"
     ]
    }
   ],
   "source": [
    "# 일단 전체를 돌릴순 없으니까 임의로 몇개만 빼서 해보자\n",
    "# cate변수는 위에 선언되어있습니다. (카테고리 데이터)\n",
    "dataframe = split(df_train, 100, 50)\n",
    "x, y = make_train_validation(dataframe, cate, test_size, 10)"
   ]
  },
  {
   "cell_type": "code",
   "execution_count": 166,
   "metadata": {},
   "outputs": [
    {
     "data": {
      "application/vnd.jupyter.widget-view+json": {
       "model_id": "d552f26bbc0f4875aa043036892af033",
       "version_major": 2,
       "version_minor": 0
      },
      "text/plain": [
       "HBox(children=(FloatProgress(value=0.0, max=95.0), HTML(value='')))"
      ]
     },
     "metadata": {},
     "output_type": "display_data"
    },
    {
     "name": "stdout",
     "output_type": "stream",
     "text": [
      "\n"
     ]
    }
   ],
   "source": [
    "df_tr2, df_te2 = ols_final(x, y,var,cate)"
   ]
  },
  {
   "cell_type": "code",
   "execution_count": 167,
   "metadata": {},
   "outputs": [
    {
     "name": "stdout",
     "output_type": "stream",
     "text": [
      "seed : 0 완료\n"
     ]
    },
    {
     "data": {
      "text/html": [
       "<div>\n",
       "<style scoped>\n",
       "    .dataframe tbody tr th:only-of-type {\n",
       "        vertical-align: middle;\n",
       "    }\n",
       "\n",
       "    .dataframe tbody tr th {\n",
       "        vertical-align: top;\n",
       "    }\n",
       "\n",
       "    .dataframe thead th {\n",
       "        text-align: right;\n",
       "    }\n",
       "</style>\n",
       "<table border=\"1\" class=\"dataframe\">\n",
       "  <thead>\n",
       "    <tr style=\"text-align: right;\">\n",
       "      <th></th>\n",
       "      <th>seed</th>\n",
       "      <th>train_rsquared_1</th>\n",
       "      <th>train_rsquared_2</th>\n",
       "      <th>validation_rsquared_1</th>\n",
       "      <th>validation_rsquared_2</th>\n",
       "      <th>train_ESS</th>\n",
       "      <th>train_RSS</th>\n",
       "      <th>train_TSS</th>\n",
       "      <th>validation_ESS</th>\n",
       "      <th>validation_RSS</th>\n",
       "      <th>validation_TSS</th>\n",
       "      <th>train_RMSE</th>\n",
       "      <th>validation_RMSE</th>\n",
       "    </tr>\n",
       "  </thead>\n",
       "  <tbody>\n",
       "    <tr>\n",
       "      <th>0</th>\n",
       "      <td>0</td>\n",
       "      <td>0.590166</td>\n",
       "      <td>0.592344</td>\n",
       "      <td>0.565586</td>\n",
       "      <td>0.676421</td>\n",
       "      <td>989.0</td>\n",
       "      <td>684.0</td>\n",
       "      <td>1670.0</td>\n",
       "      <td>358.0</td>\n",
       "      <td>230.0</td>\n",
       "      <td>529.0</td>\n",
       "      <td>0.322766</td>\n",
       "      <td>0.359901</td>\n",
       "    </tr>\n",
       "  </tbody>\n",
       "</table>\n",
       "</div>"
      ],
      "text/plain": [
       "  seed  train_rsquared_1  train_rsquared_2  validation_rsquared_1  \\\n",
       "0    0          0.590166          0.592344               0.565586   \n",
       "\n",
       "   validation_rsquared_2  train_ESS  train_RSS  train_TSS  validation_ESS  \\\n",
       "0               0.676421      989.0      684.0     1670.0           358.0   \n",
       "\n",
       "   validation_RSS  validation_TSS  train_RMSE  validation_RMSE  \n",
       "0           230.0           529.0    0.322766         0.359901  "
      ]
     },
     "execution_count": 167,
     "metadata": {},
     "output_type": "execute_result"
    }
   ],
   "source": [
    "# 결정계수 확인, 최종 확인에서는 seed값을 아무거나 주어도 상관없어요. 데이터프레임 만드려고 넣는거라..\n",
    "get_rsquared(df_tr2, df_te2,0)"
   ]
  },
  {
   "cell_type": "code",
   "execution_count": 168,
   "metadata": {},
   "outputs": [
    {
     "data": {
      "application/vnd.jupyter.widget-view+json": {
       "model_id": "89a4d3fb721548ac8e9e29b163bff673",
       "version_major": 2,
       "version_minor": 0
      },
      "text/plain": [
       "HBox(children=(FloatProgress(value=0.0, max=3197.0), HTML(value='')))"
      ]
     },
     "metadata": {},
     "output_type": "display_data"
    },
    {
     "name": "stdout",
     "output_type": "stream",
     "text": [
      "\n"
     ]
    }
   ],
   "source": [
    "# 전체 돌려보자 (zero는 제외)\n",
    "df_tr2, df_te2 = ols_final(df_train, df_test, var, cate)"
   ]
  },
  {
   "cell_type": "code",
   "execution_count": 169,
   "metadata": {},
   "outputs": [
    {
     "name": "stdout",
     "output_type": "stream",
     "text": [
      "seed : 0 완료\n"
     ]
    },
    {
     "data": {
      "text/html": [
       "<div>\n",
       "<style scoped>\n",
       "    .dataframe tbody tr th:only-of-type {\n",
       "        vertical-align: middle;\n",
       "    }\n",
       "\n",
       "    .dataframe tbody tr th {\n",
       "        vertical-align: top;\n",
       "    }\n",
       "\n",
       "    .dataframe thead th {\n",
       "        text-align: right;\n",
       "    }\n",
       "</style>\n",
       "<table border=\"1\" class=\"dataframe\">\n",
       "  <thead>\n",
       "    <tr style=\"text-align: right;\">\n",
       "      <th></th>\n",
       "      <th>seed</th>\n",
       "      <th>train_rsquared_1</th>\n",
       "      <th>train_rsquared_2</th>\n",
       "      <th>validation_rsquared_1</th>\n",
       "      <th>validation_rsquared_2</th>\n",
       "      <th>train_ESS</th>\n",
       "      <th>train_RSS</th>\n",
       "      <th>train_TSS</th>\n",
       "      <th>validation_ESS</th>\n",
       "      <th>validation_RSS</th>\n",
       "      <th>validation_TSS</th>\n",
       "      <th>train_RMSE</th>\n",
       "      <th>validation_RMSE</th>\n",
       "    </tr>\n",
       "  </thead>\n",
       "  <tbody>\n",
       "    <tr>\n",
       "      <th>0</th>\n",
       "      <td>0</td>\n",
       "      <td>0.780704</td>\n",
       "      <td>0.78074</td>\n",
       "      <td>0.729763</td>\n",
       "      <td>0.759106</td>\n",
       "      <td>248953.0</td>\n",
       "      <td>69927.0</td>\n",
       "      <td>318868.0</td>\n",
       "      <td>95587.0</td>\n",
       "      <td>34028.0</td>\n",
       "      <td>125921.0</td>\n",
       "      <td>0.469237</td>\n",
       "      <td>0.594619</td>\n",
       "    </tr>\n",
       "  </tbody>\n",
       "</table>\n",
       "</div>"
      ],
      "text/plain": [
       "  seed  train_rsquared_1  train_rsquared_2  validation_rsquared_1  \\\n",
       "0    0          0.780704           0.78074               0.729763   \n",
       "\n",
       "   validation_rsquared_2  train_ESS  train_RSS  train_TSS  validation_ESS  \\\n",
       "0               0.759106   248953.0    69927.0   318868.0         95587.0   \n",
       "\n",
       "   validation_RSS  validation_TSS  train_RMSE  validation_RMSE  \n",
       "0         34028.0        125921.0    0.469237         0.594619  "
      ]
     },
     "execution_count": 169,
     "metadata": {},
     "output_type": "execute_result"
    }
   ],
   "source": [
    "get_rsquared(df_tr2, df_te2,0)"
   ]
  },
  {
   "cell_type": "markdown",
   "metadata": {},
   "source": [
    "# zero model 확인\n",
    " - 우리가 가지고있는 Data로 말고, 실제 외부데이터가 들어왔다는 가정일때\n",
    " - 실제 test 모델 검증중엔 안해도 됩니다. 그냥 데이콘에 제출할수 있을까해서 만든거에요\n",
    " - 얘는 yhat을 scale이 안된값을 출력해야해서 합니다..포뮬라식에서 y가 ride_18 입니다"
   ]
  },
  {
   "cell_type": "code",
   "execution_count": null,
   "metadata": {},
   "outputs": [],
   "source": [
    "# 실제 train 데이터를 입력받아서, zero_df를 만들고 실행합니다.\n",
    "def ols_final_dacon(df_train, df_test, var, cate):\n",
    "\n",
    "    columns = df_train.columns\n",
    "    df_tr = pd.DataFrame(columns=columns)\n",
    "    df_te = pd.DataFrame(columns=columns)\n",
    "    df_tr['yhat'] = 999\n",
    "    df_te['yhat'] = 999\n",
    "    cate_c = [f\"C({name})\" for name in cate]\n",
    "    y = ['ride18']\n",
    "    \n",
    "    # 입력받은 train 데이터에서 zero_model 생성\n",
    "    # 입력받은 train은 우리가 임의로 나눈 데이터가 아니여도 zero_model이 있을수 있으므로 생성\n",
    "    # 위에서 raw_data에서 뺸 zero_model은 검증을 위해 제외한것, 그것을 전체데이터를 검증하는 곳에 넣었으니\n",
    "    # 여기서입력받는 df_train에는 위에서 제외시킨 zero_model이 포함되어야 함\n",
    "    table = pd.pivot_table(index='station_code', data=df_train, values='id', aggfunc=len).reset_index()\n",
    "    table = table[table['id'] == 1]\n",
    "    raw_train = df_train.copy()\n",
    "    raw_zero =pd.DataFrame(columns=df_train.columns)\n",
    "    \n",
    "    for i in table['station_code'].unique():\n",
    "        raw_train = raw_train[raw_train['station_code'] != i]\n",
    "        raw_zero = raw_zero.append(raw_data[raw_data['station_code'] == i])\n",
    "    # zero 모델의 df 생성\n",
    "    a = raw_zero[['station_code','ride18']]\n",
    "    zero_df = pd.merge(table, a, how = 'inner')\n",
    "    \n",
    "    total = tqdm(df_test['station_code'].unique())\n",
    "    for i in total:\n",
    "        train_ols = df_train[df_train['station_code'] == i]\n",
    "        test_ols = df_test[df_test['station_code'] == i]\n",
    "\n",
    "        if i in zero_df['station_code'].unique():\n",
    "            \n",
    "            test_ols['yhat'] = zero_df[zero_df['station_code'] == i]['ride18']\n",
    "            df_tr = pd.concat([df_tr, test_ols])\n",
    "            df_te = pd.concat([df_te, test_ols])\n",
    "\n",
    "        elif len(test_ols) == 0:\n",
    "            model = sm.OLS.from_formula(\n",
    "                'ride18  ~ ' + '+'.join(var)\n",
    "                + '+'.join('+') + '+'.join(cate_c), data=train_ols)\n",
    "            # 학습\n",
    "            result = model.fit()\n",
    "            # 결과\n",
    "            train_ols['yhat'] = result.predict(train_ols)\n",
    "            # 학습 저장\n",
    "            df_tr = pd.concat([df_tr, train_ols])\n",
    "\n",
    "        else:\n",
    "            model = sm.OLS.from_formula(\n",
    "                'ride18  ~ ' + '+'.join(var)\n",
    "                + '+'.join('+') + '+'.join(cate_c), data=train_ols)\n",
    "            # 학습\n",
    "            result = model.fit()\n",
    "            # 결과\n",
    "            train_ols['yhat'] = result.predict(train_ols)\n",
    "            # 학습 저장\n",
    "            df_tr = pd.concat([df_tr, train_ols])\n",
    "\n",
    "            test_ols_df = test_ols[var+cate]  # 테스트 모델\n",
    "            test_ols['yhat'] = result.predict(test_ols_df)\n",
    "            df_te = pd.concat([df_te, test_ols])\n",
    "    return df_tr, df_te"
   ]
  },
  {
   "cell_type": "code",
   "execution_count": null,
   "metadata": {},
   "outputs": [],
   "source": [
    "# zero model만 돌리기\n",
    "\n",
    "var = ['ride6', 'ride7', 'ride8', 'ride9', 'ride10', 'ride11',\n",
    "       'off6', 'off7', 'off8', 'off9', 'off10', 'off11',\n",
    "       'temperature', 'precipitation', 'bus_interval',\n",
    "       'ride_sum', 'off_sum']\n",
    "cate = ['bus_route_id', 'in_', 'out','weekend', 'weekday', 'holiday', 'typhoon']\n",
    "df_tr2, df_te2 = ols_final_dacon(raw_zero, raw_zero,var,cate)"
   ]
  },
  {
   "cell_type": "code",
   "execution_count": null,
   "metadata": {},
   "outputs": [],
   "source": [
    "# zero model을 포함한것 돌리기 (실제 외부데이터가 들어왔다는 가정으로)\n",
    "# df_train = train data\n",
    "# df_test = test data (zero_df 제외)\n",
    "# zero_df = 1회만 운행된 정류소(예측모델 생성 완전히 불가)\n",
    "# tm = df_train + zero_df (zero model 확인용으로 사용, 실제 모델은 df_train, df_test를 사용하면 됨)외부 데이터인것으로 가정\n",
    "# im = df_test + zero_df (zero model 확인용으로 사용, 실제 모델은 df_train, df_test를 사용하면 됨)외부 데이터인것으로 가정\n",
    "\n",
    "tm = pd.concat([raw_zero, df_train])\n",
    "im = pd.concat([raw_zero, df_test])\n",
    "\n",
    "df_tr2, df_te2 = ols_final_dacon(tm, im, var, cate)"
   ]
  },
  {
   "cell_type": "code",
   "execution_count": null,
   "metadata": {},
   "outputs": [],
   "source": [
    "get_rsquared(df_tr2, df_te2,0)"
   ]
  }
 ],
 "metadata": {
  "kernelspec": {
   "display_name": "Python 3",
   "language": "python",
   "name": "python3"
  },
  "language_info": {
   "codemirror_mode": {
    "name": "ipython",
    "version": 3
   },
   "file_extension": ".py",
   "mimetype": "text/x-python",
   "name": "python",
   "nbconvert_exporter": "python",
   "pygments_lexer": "ipython3",
   "version": "3.7.6"
  }
 },
 "nbformat": 4,
 "nbformat_minor": 4
}
